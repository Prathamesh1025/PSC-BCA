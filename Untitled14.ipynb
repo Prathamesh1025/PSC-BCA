{
 "cells": [
  {
   "cell_type": "code",
   "execution_count": 1,
   "id": "2134bab4-b099-4b53-8b1a-e9437e959c78",
   "metadata": {},
   "outputs": [],
   "source": [
    "a = 2"
   ]
  },
  {
   "cell_type": "code",
   "execution_count": 2,
   "id": "2510bc19-5dda-4401-9fc4-3199e1e27b59",
   "metadata": {},
   "outputs": [
    {
     "name": "stdout",
     "output_type": "stream",
     "text": [
      "2\n"
     ]
    }
   ],
   "source": [
    "# libraray function or inbuilt function \n",
    "print(a)"
   ]
  },
  {
   "cell_type": "code",
   "execution_count": 4,
   "id": "eebc66c8-7877-4501-b05d-704a899392db",
   "metadata": {},
   "outputs": [],
   "source": [
    "name = \"shivraj gadge\""
   ]
  },
  {
   "cell_type": "code",
   "execution_count": 5,
   "id": "c2ad9372-4c62-4041-adaf-57bfb96c2a85",
   "metadata": {},
   "outputs": [
    {
     "name": "stdout",
     "output_type": "stream",
     "text": [
      "shivraj gadge\n"
     ]
    }
   ],
   "source": [
    "print(name)"
   ]
  },
  {
   "cell_type": "code",
   "execution_count": 6,
   "id": "847bd915-f49f-4fd9-b061-1aa39ab0303a",
   "metadata": {},
   "outputs": [
    {
     "data": {
      "text/plain": [
       "'shivraj gadge'"
      ]
     },
     "execution_count": 6,
     "metadata": {},
     "output_type": "execute_result"
    }
   ],
   "source": [
    "name"
   ]
  },
  {
   "cell_type": "code",
   "execution_count": 9,
   "id": "7c9afcac-ad55-4e2b-9cbe-d9b5dadaf518",
   "metadata": {},
   "outputs": [],
   "source": [
    "a , b , c = 5,4,7"
   ]
  },
  {
   "cell_type": "code",
   "execution_count": null,
   "id": "0a1dc145-dace-42f9-8d02-1f96ecc5daa0",
   "metadata": {},
   "outputs": [],
   "source": [
    "a = b = c = 7"
   ]
  },
  {
   "cell_type": "code",
   "execution_count": 10,
   "id": "05675457-c2fe-4039-b1e8-41138dc9fc7e",
   "metadata": {},
   "outputs": [
    {
     "name": "stdout",
     "output_type": "stream",
     "text": [
      "5 4 7\n"
     ]
    }
   ],
   "source": [
    "print(a ,b ,c)"
   ]
  },
  {
   "cell_type": "code",
   "execution_count": 11,
   "id": "7f8c9a0d-6712-4f6b-b803-57af0efb0037",
   "metadata": {},
   "outputs": [],
   "source": [
    "a = b = c = 7"
   ]
  },
  {
   "cell_type": "code",
   "execution_count": 12,
   "id": "c876e782-e6e5-4d49-b29b-dd5966563cba",
   "metadata": {},
   "outputs": [
    {
     "name": "stdout",
     "output_type": "stream",
     "text": [
      "7 7 7\n"
     ]
    }
   ],
   "source": [
    "print(a ,b ,c)"
   ]
  },
  {
   "cell_type": "code",
   "execution_count": 13,
   "id": "a62d7080-8f99-4084-8b8f-2774df290802",
   "metadata": {},
   "outputs": [
    {
     "name": "stdout",
     "output_type": "stream",
     "text": [
      "7,7,7\n"
     ]
    }
   ],
   "source": [
    "print(a,b,c, sep=',')"
   ]
  },
  {
   "cell_type": "code",
   "execution_count": 14,
   "id": "a9fc2c20-00ac-4456-b33d-9c28b18f3a53",
   "metadata": {},
   "outputs": [
    {
     "name": "stdout",
     "output_type": "stream",
     "text": [
      "7@7@7\n"
     ]
    }
   ],
   "source": [
    "print(a,b,c, sep='@')"
   ]
  },
  {
   "cell_type": "code",
   "execution_count": 15,
   "id": "3869f071-cdac-43fb-8df0-7527fa67eae8",
   "metadata": {},
   "outputs": [
    {
     "name": "stdout",
     "output_type": "stream",
     "text": [
      "456789\n"
     ]
    }
   ],
   "source": [
    "print(45,67,89, sep=\"\")"
   ]
  },
  {
   "cell_type": "code",
   "execution_count": 16,
   "id": "969f2272-c77a-44ba-9c11-f4562f499577",
   "metadata": {},
   "outputs": [
    {
     "name": "stdout",
     "output_type": "stream",
     "text": [
      "shivraj gadge\tVaishnavi Sharma\n",
      "Vaishnavi Sharma\n"
     ]
    }
   ],
   "source": [
    "print('shivraj gadge',end='\\t')\n",
    "print(\"Vaishnavi Sharma\")\n",
    "print(\"Vaishnavi Sharma\")"
   ]
  },
  {
   "cell_type": "code",
   "execution_count": 17,
   "id": "77996e36-4176-4222-b411-996d9ba99746",
   "metadata": {},
   "outputs": [
    {
     "name": "stdout",
     "output_type": "stream",
     "text": [
      "Enter Two Nos.\n"
     ]
    },
    {
     "name": "stdin",
     "output_type": "stream",
     "text": [
      "7 4\n",
      "7 2\n"
     ]
    },
    {
     "name": "stdout",
     "output_type": "stream",
     "text": [
      "14\n"
     ]
    }
   ],
   "source": [
    "# write code to add 2 nos.\n",
    "print(\"Enter Two Nos.\")\n",
    "input(a)\n",
    "input(b)\n",
    "c = a+b\n",
    "print(c)"
   ]
  },
  {
   "cell_type": "code",
   "execution_count": null,
   "id": "a191535b-eb0d-4a06-acb1-67e6958f476c",
   "metadata": {},
   "outputs": [],
   "source": []
  },
  {
   "cell_type": "code",
   "execution_count": null,
   "id": "63d2d1d8-b44f-4a16-8e0e-d7f0899c3054",
   "metadata": {},
   "outputs": [
    {
     "name": "stdout",
     "output_type": "stream",
     "text": [
      "Enter Two Nos.\n"
     ]
    }
   ],
   "source": [
    "# write code to add 2 nos.\n",
    "print(\"Enter Two Nos.\")\n",
    "a = int(input(\"input the value  of a\"))\n",
    "b = int(input(\"input the value of b\"))\n",
    "c = a+b\n",
    "print(c)"
   ]
  },
  {
   "cell_type": "code",
   "execution_count": null,
   "id": "75417f0a-362c-42c1-a69d-a6b724467e64",
   "metadata": {},
   "outputs": [],
   "source": []
  }
 ],
 "metadata": {
  "kernelspec": {
   "display_name": "Python 3 (ipykernel)",
   "language": "python",
   "name": "python3"
  },
  "language_info": {
   "codemirror_mode": {
    "name": "ipython",
    "version": 3
   },
   "file_extension": ".py",
   "mimetype": "text/x-python",
   "name": "python",
   "nbconvert_exporter": "python",
   "pygments_lexer": "ipython3",
   "version": "3.12.4"
  }
 },
 "nbformat": 4,
 "nbformat_minor": 5
}
